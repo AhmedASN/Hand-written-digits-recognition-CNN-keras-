{
 "cells": [
  {
   "cell_type": "code",
   "execution_count": 1,
   "metadata": {
    "_cell_guid": "b1076dfc-b9ad-4769-8c92-a6c4dae69d19",
    "_uuid": "8f2839f25d086af736a60e9eeb907d3b93b6e0e5"
   },
   "outputs": [],
   "source": [
    "\n",
    "import numpy as np # linear algebra\n",
    "import pandas as pd # data processing, CSV file I/O (e.g. pd.read_csv)\n",
    "import matplotlib.pyplot as plt\n",
    "import seaborn as sns\n",
    "from keras.layers import Dense, Conv2D, MaxPooling2D, Flatten, SeparableConv2D"
   ]
  },
  {
   "cell_type": "code",
   "execution_count": 3,
   "metadata": {
    "_cell_guid": "79c7e3d0-c299-4dcb-8224-4455121ee9b0",
    "_uuid": "d629ff2d2480ee46fbb7e2d37f6b5fab8052498a"
   },
   "outputs": [
    {
     "data": {
      "text/html": [
       "<div>\n",
       "<style scoped>\n",
       "    .dataframe tbody tr th:only-of-type {\n",
       "        vertical-align: middle;\n",
       "    }\n",
       "\n",
       "    .dataframe tbody tr th {\n",
       "        vertical-align: top;\n",
       "    }\n",
       "\n",
       "    .dataframe thead th {\n",
       "        text-align: right;\n",
       "    }\n",
       "</style>\n",
       "<table border=\"1\" class=\"dataframe\">\n",
       "  <thead>\n",
       "    <tr style=\"text-align: right;\">\n",
       "      <th></th>\n",
       "      <th>label</th>\n",
       "      <th>pixel0</th>\n",
       "      <th>pixel1</th>\n",
       "      <th>pixel2</th>\n",
       "      <th>pixel3</th>\n",
       "      <th>pixel4</th>\n",
       "      <th>pixel5</th>\n",
       "      <th>pixel6</th>\n",
       "      <th>pixel7</th>\n",
       "      <th>pixel8</th>\n",
       "      <th>...</th>\n",
       "      <th>pixel774</th>\n",
       "      <th>pixel775</th>\n",
       "      <th>pixel776</th>\n",
       "      <th>pixel777</th>\n",
       "      <th>pixel778</th>\n",
       "      <th>pixel779</th>\n",
       "      <th>pixel780</th>\n",
       "      <th>pixel781</th>\n",
       "      <th>pixel782</th>\n",
       "      <th>pixel783</th>\n",
       "    </tr>\n",
       "  </thead>\n",
       "  <tbody>\n",
       "    <tr>\n",
       "      <th>0</th>\n",
       "      <td>1</td>\n",
       "      <td>0</td>\n",
       "      <td>0</td>\n",
       "      <td>0</td>\n",
       "      <td>0</td>\n",
       "      <td>0</td>\n",
       "      <td>0</td>\n",
       "      <td>0</td>\n",
       "      <td>0</td>\n",
       "      <td>0</td>\n",
       "      <td>...</td>\n",
       "      <td>0</td>\n",
       "      <td>0</td>\n",
       "      <td>0</td>\n",
       "      <td>0</td>\n",
       "      <td>0</td>\n",
       "      <td>0</td>\n",
       "      <td>0</td>\n",
       "      <td>0</td>\n",
       "      <td>0</td>\n",
       "      <td>0</td>\n",
       "    </tr>\n",
       "    <tr>\n",
       "      <th>1</th>\n",
       "      <td>0</td>\n",
       "      <td>0</td>\n",
       "      <td>0</td>\n",
       "      <td>0</td>\n",
       "      <td>0</td>\n",
       "      <td>0</td>\n",
       "      <td>0</td>\n",
       "      <td>0</td>\n",
       "      <td>0</td>\n",
       "      <td>0</td>\n",
       "      <td>...</td>\n",
       "      <td>0</td>\n",
       "      <td>0</td>\n",
       "      <td>0</td>\n",
       "      <td>0</td>\n",
       "      <td>0</td>\n",
       "      <td>0</td>\n",
       "      <td>0</td>\n",
       "      <td>0</td>\n",
       "      <td>0</td>\n",
       "      <td>0</td>\n",
       "    </tr>\n",
       "    <tr>\n",
       "      <th>2</th>\n",
       "      <td>1</td>\n",
       "      <td>0</td>\n",
       "      <td>0</td>\n",
       "      <td>0</td>\n",
       "      <td>0</td>\n",
       "      <td>0</td>\n",
       "      <td>0</td>\n",
       "      <td>0</td>\n",
       "      <td>0</td>\n",
       "      <td>0</td>\n",
       "      <td>...</td>\n",
       "      <td>0</td>\n",
       "      <td>0</td>\n",
       "      <td>0</td>\n",
       "      <td>0</td>\n",
       "      <td>0</td>\n",
       "      <td>0</td>\n",
       "      <td>0</td>\n",
       "      <td>0</td>\n",
       "      <td>0</td>\n",
       "      <td>0</td>\n",
       "    </tr>\n",
       "    <tr>\n",
       "      <th>3</th>\n",
       "      <td>4</td>\n",
       "      <td>0</td>\n",
       "      <td>0</td>\n",
       "      <td>0</td>\n",
       "      <td>0</td>\n",
       "      <td>0</td>\n",
       "      <td>0</td>\n",
       "      <td>0</td>\n",
       "      <td>0</td>\n",
       "      <td>0</td>\n",
       "      <td>...</td>\n",
       "      <td>0</td>\n",
       "      <td>0</td>\n",
       "      <td>0</td>\n",
       "      <td>0</td>\n",
       "      <td>0</td>\n",
       "      <td>0</td>\n",
       "      <td>0</td>\n",
       "      <td>0</td>\n",
       "      <td>0</td>\n",
       "      <td>0</td>\n",
       "    </tr>\n",
       "    <tr>\n",
       "      <th>4</th>\n",
       "      <td>0</td>\n",
       "      <td>0</td>\n",
       "      <td>0</td>\n",
       "      <td>0</td>\n",
       "      <td>0</td>\n",
       "      <td>0</td>\n",
       "      <td>0</td>\n",
       "      <td>0</td>\n",
       "      <td>0</td>\n",
       "      <td>0</td>\n",
       "      <td>...</td>\n",
       "      <td>0</td>\n",
       "      <td>0</td>\n",
       "      <td>0</td>\n",
       "      <td>0</td>\n",
       "      <td>0</td>\n",
       "      <td>0</td>\n",
       "      <td>0</td>\n",
       "      <td>0</td>\n",
       "      <td>0</td>\n",
       "      <td>0</td>\n",
       "    </tr>\n",
       "  </tbody>\n",
       "</table>\n",
       "<p>5 rows × 785 columns</p>\n",
       "</div>"
      ],
      "text/plain": [
       "   label  pixel0  pixel1  pixel2  pixel3  pixel4  pixel5  pixel6  pixel7  \\\n",
       "0      1       0       0       0       0       0       0       0       0   \n",
       "1      0       0       0       0       0       0       0       0       0   \n",
       "2      1       0       0       0       0       0       0       0       0   \n",
       "3      4       0       0       0       0       0       0       0       0   \n",
       "4      0       0       0       0       0       0       0       0       0   \n",
       "\n",
       "   pixel8  ...  pixel774  pixel775  pixel776  pixel777  pixel778  pixel779  \\\n",
       "0       0  ...         0         0         0         0         0         0   \n",
       "1       0  ...         0         0         0         0         0         0   \n",
       "2       0  ...         0         0         0         0         0         0   \n",
       "3       0  ...         0         0         0         0         0         0   \n",
       "4       0  ...         0         0         0         0         0         0   \n",
       "\n",
       "   pixel780  pixel781  pixel782  pixel783  \n",
       "0         0         0         0         0  \n",
       "1         0         0         0         0  \n",
       "2         0         0         0         0  \n",
       "3         0         0         0         0  \n",
       "4         0         0         0         0  \n",
       "\n",
       "[5 rows x 785 columns]"
      ]
     },
     "execution_count": 3,
     "metadata": {},
     "output_type": "execute_result"
    }
   ],
   "source": [
    "data=pd.read_csv('train.csv')\n",
    "data.head()"
   ]
  },
  {
   "cell_type": "code",
   "execution_count": null,
   "metadata": {},
   "outputs": [],
   "source": []
  },
  {
   "cell_type": "code",
   "execution_count": 4,
   "metadata": {},
   "outputs": [],
   "source": [
    "\n",
    "labels=data.label.to_numpy()\n",
    "labels=keras.utils.to_categorical(labels,num_classes=10)\n",
    "images=data[[col for col in data.columns if col!=\"label\"]]"
   ]
  },
  {
   "cell_type": "code",
   "execution_count": 5,
   "metadata": {},
   "outputs": [
    {
     "name": "stdout",
     "output_type": "stream",
     "text": [
      "(42000, 28, 28, 1)\n"
     ]
    }
   ],
   "source": [
    "def preprocess_data(d):\n",
    "    '''\n",
    "    takes as input a batch of images in a forme of a DataFrame with 28*28 columns\n",
    "    and preprocess it to return a tensor of shape (batch_size, 28,28,1) \n",
    "    '''\n",
    "    as_array=d.to_numpy(copy=True)\n",
    "    train_images=np.zeros((d.shape[0],28,28), dtype='float32')\n",
    "    for i in range(train_images.shape[0]):\n",
    "        temp=np.reshape(as_array[i],(28,28))\n",
    "        train_images[i]=temp\n",
    "    train_images=train_images[:]/255 # Normalizing\n",
    "    train_images=np.reshape(train_images,(d.shape[0],28,28,1))\n",
    "    return train_images\n",
    "train_images=preprocess_data(images)\n",
    "print(train_images.shape)"
   ]
  },
  {
   "cell_type": "code",
   "execution_count": 15,
   "metadata": {},
   "outputs": [
    {
     "data": {
      "image/png": "[encoded data removed]",
      "text/plain": [
       "<Figure size 720x360 with 1 Axes>"
      ]
     },
     "metadata": {
      "needs_background": "light"
     },
     "output_type": "display_data"
    }
   ],
   "source": [
    "# Let's visualize our data\n",
    "plt.figure(figsize=(10,5))\n",
    "g = sns.countplot(data.label, palette=\"icefire\")\n",
    "plt.title(\"Number of digit classes\")\n",
    "plt.savefig(\"Number of digit classes\")"
   ]
  },
  {
   "cell_type": "code",
   "execution_count": 14,
   "metadata": {},
   "outputs": [
    {
     "data": {
      "image/png": "[encoded data removed]",
      "text/plain": [
       "<Figure size 432x288 with 4 Axes>"
      ]
     },
     "metadata": {
      "needs_background": "light"
     },
     "output_type": "display_data"
    }
   ],
   "source": [
    "fig, ax =plt.subplots(2,2)\n",
    "for a in ax:\n",
    "    for b in a:\n",
    "        image=train_images[np.random.randint(0,len(train_images))]\n",
    "        b.imshow(image.reshape((28,28)),cmap='Greys')"
   ]
  },
  {
   "cell_type": "code",
   "execution_count": 8,
   "metadata": {},
   "outputs": [
    {
     "name": "stdout",
     "output_type": "stream",
     "text": [
      "Model: \"sequential\"\n",
      "_________________________________________________________________\n",
      "Layer (type)                 Output Shape              Param #   \n",
      "=================================================================\n",
      "conv2d (Conv2D)              (None, 26, 26, 32)        320       \n",
      "_________________________________________________________________\n",
      "conv2d_1 (Conv2D)            (None, 24, 24, 64)        18496     \n",
      "_________________________________________________________________\n",
      "max_pooling2d (MaxPooling2D) (None, 8, 8, 64)          0         \n",
      "_________________________________________________________________\n",
      "conv2d_2 (Conv2D)            (None, 6, 6, 64)          36928     \n",
      "_________________________________________________________________\n",
      "max_pooling2d_1 (MaxPooling2 (None, 2, 2, 64)          0         \n",
      "_________________________________________________________________\n",
      "flatten (Flatten)            (None, 256)               0         \n",
      "_________________________________________________________________\n",
      "dense (Dense)                (None, 64)                16448     \n",
      "_________________________________________________________________\n",
      "dense_1 (Dense)              (None, 10)                650       \n",
      "=================================================================\n",
      "Total params: 72,842\n",
      "Trainable params: 72,842\n",
      "Non-trainable params: 0\n",
      "_________________________________________________________________\n"
     ]
    }
   ],
   "source": [
    "# Create first model using Conv2D\n",
    "\n",
    "model1=keras.models.Sequential()#model1 using Conv2D\n",
    "model1.add(Conv2D(32,(3,3),activation='relu',input_shape=(28,28,1)))\n",
    "model1.add(Conv2D(64,(3,3),activation='relu'))\n",
    "model1.add(MaxPooling2D((3,3)))\n",
    "model1.add(Conv2D(64,(3,3),activation='relu'))\n",
    "model1.add(MaxPooling2D((3,3), padding='same'))\n",
    "model1.add(Flatten())\n",
    "model1.add(Dense(64))\n",
    "model1.add(Dense(10,activation='softmax'))\n",
    "model1.summary()"
   ]
  },
  {
   "cell_type": "code",
   "execution_count": 9,
   "metadata": {},
   "outputs": [
    {
     "name": "stdout",
     "output_type": "stream",
     "text": [
      "Model: \"sequential_1\"\n",
      "_________________________________________________________________\n",
      "Layer (type)                 Output Shape              Param #   \n",
      "=================================================================\n",
      "separable_conv2d (SeparableC (None, 26, 26, 32)        73        \n",
      "_________________________________________________________________\n",
      "separable_conv2d_1 (Separabl (None, 24, 24, 64)        2400      \n",
      "_________________________________________________________________\n",
      "max_pooling2d_2 (MaxPooling2 (None, 8, 8, 64)          0         \n",
      "_________________________________________________________________\n",
      "separable_conv2d_2 (Separabl (None, 6, 6, 64)          4736      \n",
      "_________________________________________________________________\n",
      "max_pooling2d_3 (MaxPooling2 (None, 2, 2, 64)          0         \n",
      "_________________________________________________________________\n",
      "flatten_1 (Flatten)          (None, 256)               0         \n",
      "_________________________________________________________________\n",
      "dense_2 (Dense)              (None, 64)                16448     \n",
      "_________________________________________________________________\n",
      "dense_3 (Dense)              (None, 10)                650       \n",
      "=================================================================\n",
      "Total params: 24,307\n",
      "Trainable params: 24,307\n",
      "Non-trainable params: 0\n",
      "_________________________________________________________________\n"
     ]
    }
   ],
   "source": [
    "# Create first model using SeparableConv2D\n",
    "model2=keras.models.Sequential()#model2 using SeparableConv2D\n",
    "model2.add(SeparableConv2D(32,(3,3),activation='relu',input_shape=(28,28,1)))\n",
    "model2.add(SeparableConv2D(64,(3,3),activation='relu'))\n",
    "model2.add(MaxPooling2D((3,3)))\n",
    "model2.add(SeparableConv2D(64,(3,3),activation='relu'))\n",
    "model2.add(MaxPooling2D((3,3), padding='same'))\n",
    "model2.add(Flatten())\n",
    "model2.add(Dense(64))\n",
    "model2.add(Dense(10,activation='softmax'))\n",
    "model2.summary()"
   ]
  },
  {
   "cell_type": "code",
   "execution_count": 10,
   "metadata": {},
   "outputs": [
    {
     "name": "stdout",
     "output_type": "stream",
     "text": [
      "Epoch 1/13\n",
      "525/525 [==============================] - 26s 50ms/step - loss: 0.2334 - accuracy: 0.9267 - val_loss: 0.0700 - val_accuracy: 0.9789\n",
      "Epoch 2/13\n",
      "525/525 [==============================] - 31s 58ms/step - loss: 0.0540 - accuracy: 0.9827 - val_loss: 0.0487 - val_accuracy: 0.9839\n",
      "Epoch 3/13\n",
      "525/525 [==============================] - 29s 55ms/step - loss: 0.0366 - accuracy: 0.9884 - val_loss: 0.0406 - val_accuracy: 0.9893\n",
      "Epoch 4/13\n",
      "525/525 [==============================] - 30s 57ms/step - loss: 0.0287 - accuracy: 0.9907 - val_loss: 0.0420 - val_accuracy: 0.9880\n",
      "Epoch 5/13\n",
      "525/525 [==============================] - 28s 53ms/step - loss: 0.0228 - accuracy: 0.9925 - val_loss: 0.0392 - val_accuracy: 0.9904\n",
      "Epoch 6/13\n",
      "525/525 [==============================] - 27s 51ms/step - loss: 0.0180 - accuracy: 0.9941 - val_loss: 0.0443 - val_accuracy: 0.9901\n",
      "Epoch 7/13\n",
      "525/525 [==============================] - 28s 53ms/step - loss: 0.0154 - accuracy: 0.9950 - val_loss: 0.0421 - val_accuracy: 0.9901\n",
      "Epoch 8/13\n",
      "525/525 [==============================] - 29s 55ms/step - loss: 0.0135 - accuracy: 0.9959 - val_loss: 0.0402 - val_accuracy: 0.9910\n",
      "Epoch 9/13\n",
      "525/525 [==============================] - 27s 52ms/step - loss: 0.0115 - accuracy: 0.9965 - val_loss: 0.0518 - val_accuracy: 0.9918\n",
      "Epoch 10/13\n",
      "525/525 [==============================] - 30s 56ms/step - loss: 0.0090 - accuracy: 0.9971 - val_loss: 0.0460 - val_accuracy: 0.9924\n",
      "Epoch 11/13\n",
      "525/525 [==============================] - 29s 55ms/step - loss: 0.0088 - accuracy: 0.9973 - val_loss: 0.0595 - val_accuracy: 0.9904\n",
      "Epoch 12/13\n",
      "525/525 [==============================] - 29s 55ms/step - loss: 0.0080 - accuracy: 0.9976 - val_loss: 0.0549 - val_accuracy: 0.9910\n",
      "Epoch 13/13\n",
      "525/525 [==============================] - 28s 54ms/step - loss: 0.0068 - accuracy: 0.9980 - val_loss: 0.0510 - val_accuracy: 0.9908\n"
     ]
    }
   ],
   "source": [
    "model1.compile(optimizer=\"rmsprop\",loss=\"categorical_crossentropy\",metrics=['accuracy'])\n",
    "history1=model1.fit(train_images,labels,epochs=13,batch_size=64,validation_split = 0.2)"
   ]
  },
  {
   "cell_type": "code",
   "execution_count": 11,
   "metadata": {},
   "outputs": [
    {
     "name": "stdout",
     "output_type": "stream",
     "text": [
      "Epoch 1/7\n",
      "525/525 [==============================] - 18s 35ms/step - loss: 0.5419 - accuracy: 0.8361 - val_loss: 0.1741 - val_accuracy: 0.9455\n",
      "Epoch 2/7\n",
      "525/525 [==============================] - 17s 32ms/step - loss: 0.1521 - accuracy: 0.9521 - val_loss: 0.1123 - val_accuracy: 0.9631\n",
      "Epoch 3/7\n",
      "525/525 [==============================] - 18s 35ms/step - loss: 0.1033 - accuracy: 0.9682 - val_loss: 0.0839 - val_accuracy: 0.9738\n",
      "Epoch 4/7\n",
      "525/525 [==============================] - 19s 35ms/step - loss: 0.0800 - accuracy: 0.9750 - val_loss: 0.0861 - val_accuracy: 0.9739\n",
      "Epoch 5/7\n",
      "525/525 [==============================] - 18s 34ms/step - loss: 0.0656 - accuracy: 0.9793 - val_loss: 0.0665 - val_accuracy: 0.9792\n",
      "Epoch 6/7\n",
      "525/525 [==============================] - 18s 34ms/step - loss: 0.0559 - accuracy: 0.9824 - val_loss: 0.0635 - val_accuracy: 0.9794\n",
      "Epoch 7/7\n",
      "525/525 [==============================] - 18s 35ms/step - loss: 0.0480 - accuracy: 0.9843 - val_loss: 0.0525 - val_accuracy: 0.9837\n"
     ]
    }
   ],
   "source": [
    "model2.compile(optimizer=\"rmsprop\",loss=\"categorical_crossentropy\",metrics=['accuracy'])\n",
    "history2=model2.fit(train_images,labels,epochs=7,batch_size=64,validation_split = 0.2)"
   ]
  },
  {
   "cell_type": "code",
   "execution_count": 12,
   "metadata": {},
   "outputs": [
    {
     "data": {
      "image/png": "[encoded data removed]",
      "text/plain": [
       "<Figure size 432x288 with 1 Axes>"
      ]
     },
     "metadata": {
      "needs_background": "light"
     },
     "output_type": "display_data"
    }
   ],
   "source": [
    "plt.plot(history1.history['accuracy'])\n",
    "plt.plot(history1.history['val_accuracy'])\n",
    "plt.title('model accuracy')\n",
    "plt.ylabel('accuracy')\n",
    "plt.xlabel('epoch')\n",
    "plt.legend(['train', 'test'], loc='upper left')\n",
    "plt.show()"
   ]
  },
  {
   "cell_type": "code",
   "execution_count": 13,
   "metadata": {},
   "outputs": [
    {
     "data": {
      "image/png": "[encoded data removed]",
      "text/plain": [
       "<Figure size 432x288 with 1 Axes>"
      ]
     },
     "metadata": {
      "needs_background": "light"
     },
     "output_type": "display_data"
    }
   ],
   "source": [
    "plt.plot(history2.history['accuracy'])\n",
    "plt.plot(history2.history['val_accuracy'])\n",
    "plt.title('model accuracy')\n",
    "plt.ylabel('accuracy')\n",
    "plt.xlabel('epoch')\n",
    "plt.legend(['train', 'test'], loc='upper left')\n",
    "plt.show()"
   ]
  }
 ],
 "metadata": {
  "kernelspec": {
   "display_name": "Python 3",
   "language": "python",
   "name": "python3"
  },
  "language_info": {
   "codemirror_mode": {
    "name": "ipython",
    "version": 3
   },
   "file_extension": ".py",
   "mimetype": "text/x-python",
   "name": "python",
   "nbconvert_exporter": "python",
   "pygments_lexer": "ipython3",
   "version": "3.7.6"
  }
 },
 "nbformat": 4,
 "nbformat_minor": 4
}
